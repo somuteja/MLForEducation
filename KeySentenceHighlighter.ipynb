{
 "cells": [
  {
   "cell_type": "code",
   "execution_count": 18,
   "id": "3e8f57e2",
   "metadata": {},
   "outputs": [],
   "source": [
    "import PyPDF2\n",
    "import pdfminer\n",
    "import spacy\n",
    "import sys\n",
    "import io\n",
    "from pdfminer.high_level import extract_text\n",
    "from reportlab.lib.pagesizes import letter\n",
    "from reportlab.pdfgen import canvas\n",
    "import fitz"
   ]
  },
  {
   "cell_type": "code",
   "execution_count": 8,
   "id": "d238e0bd",
   "metadata": {},
   "outputs": [],
   "source": [
    "def extract_text_from_pdf(pdf_path):\n",
    "    return extract_text(pdf_path)"
   ]
  },
  {
   "cell_type": "code",
   "execution_count": 16,
   "id": "73435f0f",
   "metadata": {},
   "outputs": [],
   "source": [
    "import numpy as np\n",
    "from sklearn.metrics.pairwise import cosine_similarity\n",
    "\n",
    "def highlight_key_sentences(text, nlp, threshold=None):\n",
    "    doc = nlp(text)\n",
    "    sentences = list(doc.sents)\n",
    "    sentence_vectors = [sent.vector for sent in sentences if sent.vector_norm > 0]\n",
    "\n",
    "    if len(sentence_vectors) == 0:\n",
    "        return []\n",
    "\n",
    "    if threshold is None:\n",
    "        avg_cosine_similarity = np.mean(cosine_similarity(sentence_vectors))\n",
    "        threshold = avg_cosine_similarity * 1.1\n",
    "\n",
    "    key_sentences = []\n",
    "    for sent in sentences:\n",
    "        if sent.vector_norm > 0:\n",
    "            similarity = cosine_similarity([sent.vector], sentence_vectors).mean()\n",
    "            if similarity > threshold:\n",
    "                key_sentences.append(sent)\n",
    "\n",
    "    return key_sentences"
   ]
  },
  {
   "cell_type": "code",
   "execution_count": 10,
   "id": "585b6ff2",
   "metadata": {},
   "outputs": [],
   "source": [
    "def add_highlights_to_pdf(input_pdf, output_pdf, key_sentences):\n",
    "    doc = fitz.open(input_pdf)\n",
    "    for sentence in key_sentences:\n",
    "        for page in doc:\n",
    "            areas = page.search_for(str(sentence))\n",
    "            for area in areas:\n",
    "                highlight = page.add_highlight_annot(area)\n",
    "                highlight.update()\n",
    "\n",
    "    doc.save(output_pdf)\n",
    "    doc.close()"
   ]
  },
  {
   "cell_type": "code",
   "execution_count": 11,
   "id": "d17c7924",
   "metadata": {},
   "outputs": [],
   "source": [
    "def key_sentence_highlighter(input_pdf, output_pdf):\n",
    "    nlp = spacy.load(\"en_core_web_sm\")\n",
    "    text = extract_text_from_pdf(input_pdf)\n",
    "    key_sentences = highlight_key_sentences(text, nlp)\n",
    "    add_highlights_to_pdf(input_pdf, output_pdf, key_sentences)"
   ]
  },
  {
   "cell_type": "code",
   "execution_count": 22,
   "id": "dd97a759",
   "metadata": {},
   "outputs": [],
   "source": [
    "input_pdf = \"Impromptu.pdf\"\n",
    "output_pdf = \"Impromptu-highlighter.pdf\""
   ]
  },
  {
   "cell_type": "code",
   "execution_count": 23,
   "id": "2f797ca6",
   "metadata": {},
   "outputs": [
    {
     "name": "stdout",
     "output_type": "stream",
     "text": [
      "Number of seconds taken =  375.79170417785645\n"
     ]
    }
   ],
   "source": [
    "import time\n",
    "time_begin = time.time()\n",
    "key_sentence_highlighter(input_pdf, output_pdf)\n",
    "print(\"Number of seconds taken = \",time.time()-time_begin)"
   ]
  },
  {
   "cell_type": "code",
   "execution_count": null,
   "id": "44775350",
   "metadata": {},
   "outputs": [],
   "source": []
  }
 ],
 "metadata": {
  "kernelspec": {
   "display_name": "Python 3 (ipykernel)",
   "language": "python",
   "name": "python3"
  },
  "language_info": {
   "codemirror_mode": {
    "name": "ipython",
    "version": 3
   },
   "file_extension": ".py",
   "mimetype": "text/x-python",
   "name": "python",
   "nbconvert_exporter": "python",
   "pygments_lexer": "ipython3",
   "version": "3.9.12"
  }
 },
 "nbformat": 4,
 "nbformat_minor": 5
}
